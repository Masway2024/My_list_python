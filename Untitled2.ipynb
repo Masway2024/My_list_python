{
  "metadata": {
    "kernelspec": {
      "name": "python",
      "display_name": "Python (Pyodide)",
      "language": "python"
    },
    "language_info": {
      "codemirror_mode": {
        "name": "python",
        "version": 3
      },
      "file_extension": ".py",
      "mimetype": "text/x-python",
      "name": "python",
      "nbconvert_exporter": "python",
      "pygments_lexer": "ipython3",
      "version": "3.8"
    }
  },
  "nbformat_minor": 4,
  "nbformat": 4,
  "cells": [
    {
      "cell_type": "code",
      "source": "class Student:\n    def __init__(self, name, age, grade_level):\n        self.name = name\n        self.age = age\n        self.grade_level = grade_level\n    \n    def print_info(self):\n        print(f\"Student Name: {self.name}\")\n        print(f\"Age: {self.age}\")\n        print(f\"Grade Level: {self.grade_level}\")\n        print()\n\nclass Teacher:\n    def __init__(self, name, age, subject):\n        self.name = name\n        self.age = age\n        self.subject = subject\n    \n    def print_info(self):\n        print(f\"Teacher Name: {self.name}\")\n        print(f\"Age: {self.age}\")\n        print(f\"Subject: {self.subject}\")\n        print()\n\nclass School:\n    def __init__(self):\n        self.student = None\n        self.teacher = None\n\n    def add_student(self, name, age, grade_level):\n        self.student = Student(name, age, grade_level)\n\n    def add_teacher(self, name, age, subject):\n        self.teacher = Teacher(name, age, subject)\n\n    def print_info(self):\n        if self.student:\n            self.student.print_info()\n        if self.teacher:\n            self.teacher.print_info()\n\n# Example usage\nschool = School()\nschool.add_student(\"Alice\", 15, \"10th grade\")\nschool.add_teacher(\"Mr. Smith\", 40, \"Mathematics\")\nschool.print_info()\n",
      "metadata": {
        "trusted": true
      },
      "outputs": [
        {
          "name": "stdout",
          "text": "Student Name: Alice\nAge: 15\nGrade Level: 10th grade\n\nTeacher Name: Mr. Smith\nAge: 40\nSubject: Mathematics\n\n",
          "output_type": "stream"
        }
      ],
      "execution_count": 1
    },
    {
      "cell_type": "code",
      "source": "",
      "metadata": {
        "trusted": true
      },
      "outputs": [],
      "execution_count": null
    }
  ]
}